{
 "cells": [
  {
   "cell_type": "markdown",
   "metadata": {},
   "source": [
    "# 医学生のための画像レジストレーション入門\n",
    "\n",
    "担当教員：〇〇 〇〇\n",
    "\n",
    "---"
   ]
  },
  {
   "cell_type": "markdown",
   "metadata": {},
   "source": [
    "## 1. はじめに：なぜ画像レジストレーションが重要なのか？\n",
    "\n",
    "皆さん、こんにちは。この講義では、**画像レジストレーション（Image Registration）**、日本語では「画像の位置合わせ」と呼ばれる技術について学んでいきます。\n",
    "\n",
    "医学の世界では、CTやMRIなど、様々な種類の画像を扱います。例えば、一人の患者さんに対して、\n",
    "\n",
    "- 異なる時期に撮影したCT画像（病変の経時的変化を見るため）\n",
    "- CTとMRIの両方の画像（骨の詳細な情報はCT、軟部組織の情報はMRIで得るため）\n",
    "\n",
    "などを比較・統合して診断や治療計画に役立てます。しかし、撮影時の患者さんの僅かな体の動きや呼吸による内臓の動きなどにより、これらの画像は微妙に、時には大きく位置がずれています。\n",
    "\n",
    "この「位置のずれ」をコンピュータの力で補正し、複数の画像を正確に重ね合わせる技術が、画像レジストレーションです。\n",
    "\n",
    "この技術により、\n",
    "- **病変の正確な変化の追跡**\n",
    "- **複数の画像情報の統合による診断能の向上**\n",
    "- **手術ナビゲーションや放射線治療計画の精度向上**\n",
    "\n",
    "などが可能になります。\n",
    "\n",
    "この講義では、画像処理の専門家ではない皆さんにも理解できるよう、レジストレーションの基本的な考え方と代表的な手法を、実際のコードを動かしながら体験してもらいます。"
   ]
  },
  {
   "cell_type": "markdown",
   "metadata": {},
   "source": [
    "## 2. 準備：ライブラリとデータの準備"
   ]
  },
  {
   "cell_type": "code",
   "execution_count": null,
   "metadata": {},
   "outputs": [],
   "source": [
    "%pip install -q SimpleITK scikit-image matplotlib\n",
    "\n",
    "import SimpleITK as sitk\n",
    "import numpy as np\n",
    "import matplotlib.pyplot as plt\n",
    "from IPython.display import clear_output\n",
    "from skimage import data\n",
    "%matplotlib inline\n",
    "\n",
    "def start_plot():\n",
    "    global metric_values\n",
    "    metric_values = []\n",
    "\n",
    "def end_plot():\n",
    "    global metric_values\n",
    "    del metric_values\n",
    "    clear_output(wait=True)\n",
    "\n",
    "def plot_values(registration_method):\n",
    "    global metric_values\n",
    "    metric_values.append(registration_method.GetMetricValue())\n",
    "    clear_output(wait=True)\n",
    "    plt.plot(metric_values, 'r-')\n",
    "    plt.xlabel('Iteration Number')\n",
    "    plt.ylabel('Metric Value')\n",
    "    plt.grid(True)\n",
    "    plt.show()\n",
    "\n",
    "def checkerboard_plot(image1, image2, pattern=[12,12]):\n",
    "    checker_board_filter = sitk.CheckerBoardImageFilter()\n",
    "    checker_board_filter.SetCheckerPattern(pattern)\n",
    "    result = checker_board_filter.Execute(image1, image2)\n",
    "    plt.imshow(sitk.GetArrayViewFromImage(result), cmap=plt.cm.Greys_r)\n",
    "    plt.axis('off')\n",
    "    plt.show()\n",
    "\n",
    "print(\"ライブラリとユーティリティ関数の準備が完了しました。\")"
   ]
  },
  {
   "cell_type": "markdown",
   "metadata": {},
   "source": [
    "### テストデータの生成"
   ]
  },
  {
   "cell_type": "code",
   "execution_count": null,
   "metadata": {},
   "outputs": [],
   "source": [
    "image_3d_np = data.brain()\n",
    "slice_index = image_3d_np.shape[0] // 2\n",
    "fixed_image_np = image_3d_np[slice_index, :, :].astype(np.float32)\n",
    "fixed_image = sitk.GetImageFromArray(fixed_image_np)\n",
    "fixed_image.SetSpacing([0.5, 0.5])\n",
    "\n",
    "true_transform = sitk.Euler2DTransform()\n",
    "center_point = np.array(fixed_image.GetSize())/2.0\n",
    "physical_center = fixed_image.TransformContinuousIndexToPhysicalPoint(center_point)\n",
    "true_transform.SetCenter(physical_center)\n",
    "true_transform.SetAngle(np.deg2rad(5))\n",
    "true_transform.SetTranslation((10.0, -5.0))\n",
    "\n",
    "moving_image = sitk.Resample(fixed_image, fixed_image, true_transform, sitk.sitkLinear, 0.0, fixed_image.GetPixelID())\n",
    "\n",
    "print(\"固定画像と移動画像の準備が完了しました。\")"
   ]
  },
  {
   "cell_type": "markdown",
   "metadata": {},
   "source": [
    "## 3. 位置合わせ前の状態を確認する"
   ]
  },
  {
   "cell_type": "code",
   "execution_count": null,
   "metadata": {},
   "outputs": [],
   "source": [
    "plt.figure(figsize=(12, 5))\n",
    "plt.subplot(1, 2, 1)\n",
    "plt.imshow(sitk.GetArrayViewFromImage(fixed_image), cmap=plt.cm.Greys_r)\n",
    "plt.title('固定画像 (Fixed)')\n",
    "plt.axis('off')\n",
    "\n",
    "plt.subplot(1, 2, 2)\n",
    "plt.imshow(sitk.GetArrayViewFromImage(moving_image), cmap=plt.cm.Greys_r)\n",
    "plt.title('移動画像 (Moving)')\n",
    "plt.axis('off')\n",
    "plt.show()\n",
    "\n",
    "print(\"位置合わせ前のチェッカーボード表示：\")\n",
    "checkerboard_plot(fixed_image, moving_image)"
   ]
  },
  {
   "cell_type": "markdown",
   "metadata": {},
   "source": [
    "## 4. レジストレーションの実践"
   ]
  },
  {
   "cell_type": "markdown",
   "metadata": {},
   "source": [
    "### 手法1：Rigid Body Transform (剛体変換)\n",
    "**【このセルを根本的に修正しました】**"
   ]
  },
  {
   "cell_type": "code",
   "execution_count": null,
   "metadata": {},
   "outputs": [],
   "source": [
    "registration_method = sitk.ImageRegistrationMethod()\n",
    "registration_method.SetMetricAsMattesMutualInformation(numberOfHistogramBins=50)\n",
    "registration_method.SetMetricSamplingStrategy(registration_method.RANDOM)\n",
    "registration_method.SetMetricSamplingPercentage(0.01)\n",
    "registration_method.SetInterpolator(sitk.sitkLinear)\n",
    "\n",
    "# 最適化手法の設定\n",
    "registration_method.SetOptimizerAsGradientDescent(learningRate=0.1, numberOfIterations=200, convergenceMinimumValue=1e-6, convergenceWindowSize=10)\n",
    "\n",
    "# ★★★ 修正点：最適化スケールの手動設定 ★★★\n",
    "# 回転(ラジアン単位)と移動(mm単位)ではスケールが全く違うため、手動でバランスを取ります。\n",
    "# 回転のスケールを大きくすることで、回転の更新ステップを小さく、慎重に行うようにします。\n",
    "# パラメータの順番は [角度, x移動量, y移動量]\n",
    "registration_method.SetOptimizerScales([200.0, 1.0, 1.0])\n",
    "\n",
    "initial_transform = sitk.CenteredTransformInitializer(fixed_image, moving_image, sitk.Euler2DTransform(), sitk.CenteredTransformInitializerFilter.GEOMETRY)\n",
    "registration_method.SetInitialTransform(initial_transform)\n",
    "\n",
    "registration_method.AddCommand(sitk.sitkStartEvent, start_plot)\n",
    "registration_method.AddCommand(sitk.sitkEndEvent, end_plot)\n",
    "registration_method.AddCommand(sitk.sitkIterationEvent, lambda: plot_values(registration_method))\n",
    "\n",
    "print(\"剛体変換によるレジストレーションを開始します...\")\n",
    "rigid_transform = registration_method.Execute(fixed_image, moving_image)\n",
    "print(\"完了しました。\")\n",
    "\n",
    "moving_resampled_rigid = sitk.Resample(moving_image, fixed_image, rigid_transform, sitk.sitkLinear, 0.0, moving_image.GetPixelID())\n",
    "print(\"\\n剛体変換後のチェッカーボード表示：\")\n",
    "checkerboard_plot(fixed_image, moving_resampled_rigid)"
   ]
  },
  {
   "cell_type": "markdown",
   "metadata": {},
   "source": [
    "### 手法2：Affine Registration (アフィン変換)\n",
    "**【このセルを修正しました】**"
   ]
  },
  {
   "cell_type": "code",
   "execution_count": null,
   "metadata": {},
   "outputs": [],
   "source": [
    "registration_method = sitk.ImageRegistrationMethod()\n",
    "registration_method.SetMetricAsMattesMutualInformation(numberOfHistogramBins=50)\n",
    "registration_method.SetMetricSamplingStrategy(registration_method.RANDOM)\n",
    "registration_method.SetMetricSamplingPercentage(0.01)\n",
    "registration_method.SetInterpolator(sitk.sitkLinear)\n",
    "\n",
    "registration_method.SetOptimizerAsGradientDescent(learningRate=0.1, numberOfIterations=200, convergenceMinimumValue=1e-6, convergenceWindowSize=10)\n",
    "\n",
    "# ★★★ 修正点：最適化スケールの手動設定 ★★★\n",
    "# アフィン変換のパラメータも、回転・スケール成分と移動成分でスケールが異なります。\n",
    "# パラメータ：[matrix(0,0), matrix(0,1), matrix(1,0), matrix(1,1), translation_x, translation_y]\n",
    "scales = np.array([1.0, 1.0, 1.0, 1.0, 1.0/1000, 1.0/1000]) # 逆数を設定する流儀もあるが、今回は他と合わせる\n",
    "scales = [1.0, 1.0, 1.0, 1.0, 200.0, 200.0] # こちらの方が直感的。移動成分の更新を慎重にする\n",
    "registration_method.SetOptimizerScales([1, 1, 1, 1, 1.0/200, 1.0/200]) # SetOptimizerScalesFromPhysicalShiftの挙動に近い形\n",
    "\n",
    " # 最も安定するアプローチ: SetOptimizerScalesFromJacobian を使う\n",
    "registration_method.SetOptimizerScalesFromJacobian() \n",
    "\n",
    "initial_transform = sitk.CenteredTransformInitializer(fixed_image, moving_image, sitk.AffineTransform(fixed_image.GetDimension()), sitk.CenteredTransformInitializerFilter.GEOMETRY)\n",
    "registration_method.SetInitialTransform(initial_transform)\n",
    "\n",
    "registration_method.AddCommand(sitk.sitkStartEvent, start_plot)\n",
    "registration_method.AddCommand(sitk.sitkEndEvent, end_plot)\n",
    "registration_method.AddCommand(sitk.sitkIterationEvent, lambda: plot_values(registration_method))\n",
    "\n",
    "print(\"アフィン変換によるレジストレーションを開始します...\")\n",
    "affine_transform = registration_method.Execute(fixed_image, moving_image)\n",
    "print(\"完了しました。\")\n",
    "\n",
    "moving_resampled_affine = sitk.Resample(moving_image, fixed_image, affine_transform, sitk.sitkLinear, 0.0, moving_image.GetPixelID())\n",
    "print(\"\\nアフィン変換後のチェッカーボード表示：\")\n",
    "checkerboard_plot(fixed_image, moving_resampled_affine)"
   ]
  },
  {
   "cell_type": "markdown",
   "metadata": {},
   "source": [
    "### 手法3：Non-rigid Registration (非剛体変換)"
   ]
  },
  {
   "cell_type": "code",
   "execution_count": null,
   "metadata": {},
   "outputs": [],
   "source": [
    "registration_method = sitk.ImageRegistrationMethod()\n",
    "registration_method.SetMetricAsMattesMutualInformation(numberOfHistogramBins=50)\n",
    "registration_method.SetMetricSamplingStrategy(registration_method.RANDOM)\n",
    "registration_method.SetMetricSamplingPercentage(0.01)\n",
    "registration_method.SetInterpolator(sitk.sitkLinear)\n",
    "\n",
    "# 非剛体変換ではパラメータ数が非常に多いため、自動スケール設定が効果的です\n",
    "registration_method.SetOptimizerAsGradientDescent(learningRate=0.1, numberOfIterations=200, convergenceMinimumValue=1e-6, convergenceWindowSize=10)\n",
    "registration_method.SetOptimizerScalesFromJacobian()\n",
    "\n",
    "transform_domain_mesh_size = [8] * fixed_image.GetDimension()\n",
    "initial_bspline_transform = sitk.BSplineTransformInitializer(\n",
    "    image1 = fixed_image, \n",
    "    transformDomainMeshSize = transform_domain_mesh_size\n",
    ")\n",
    "\n",
    "initial_transform = sitk.CompositeTransform([affine_transform, initial_bspline_transform])\n",
    "registration_method.SetInitialTransform(initial_transform)\n",
    "\n",
    "registration_method.AddCommand(sitk.sitkStartEvent, start_plot)\n",
    "registration_method.AddCommand(sitk.sitkEndEvent, end_plot)\n",
    "registration_method.AddCommand(sitk.sitkIterationEvent, lambda: plot_values(registration_method))\n",
    "\n",
    "print(\"非剛体変換によるレジストレーションを開始します...\")\n",
    "nonrigid_transform = registration_method.Execute(fixed_image, moving_image)\n",
    "print(\"完了しました。\")\n",
    "\n",
    "moving_resampled_nonrigid = sitk.Resample(moving_image, fixed_image, nonrigid_transform, sitk.sitkLinear, 0.0, moving_image.GetPixelID())\n",
    "print(\"\\n非剛体変換後のチェッカーボード表示：\")\n",
    "checkerboard_plot(fixed_image, moving_resampled_nonrigid)"
   ]
  },
  {
   "cell_type": "markdown",
   "metadata": {},
   "source": [
    "## 5. 結果の比較とまとめ"
   ]
  },
  {
   "cell_type": "code",
   "execution_count": null,
   "metadata": {},
   "outputs": [],
   "source": [
    "plt.figure(figsize=(18, 10))\n",
    "\n",
    "# 1. 位置合わせ前\n",
    "plt.subplot(2, 2, 1)\n",
    "checker_board_before = sitk.CheckerBoardImageFilter()\n",
    "checker_board_before.SetCheckerPattern([12,12])\n",
    "plt.imshow(sitk.GetArrayViewFromImage(checker_board_before.Execute(fixed_image, moving_image)), cmap=plt.cm.Greys_r)\n",
    "plt.title('1. 位置合わせ前', fontsize=16)\n",
    "plt.axis('off')\n",
    "\n",
    "# 2. 剛体変換後\n",
    "plt.subplot(2, 2, 2)\n",
    "checker_board_rigid = sitk.CheckerBoardImageFilter()\n",
    "checker_board_rigid.SetCheckerPattern([12,12])\n",
    "plt.imshow(sitk.GetArrayViewFromImage(checker_board_rigid.Execute(fixed_image, moving_resampled_rigid)), cmap=plt.cm.Greys_r)\n",
    "plt.title('2. 剛体変換 (Rigid)', fontsize=16)\n",
    "plt.axis('off')\n",
    "\n",
    "# 3. アフィン変換後\n",
    "plt.subplot(2, 2, 3)\n",
    "checker_board_affine = sitk.CheckerBoardImageFilter()\n",
    "checker_board_affine.SetCheckerPattern([12,12])\n",
    "plt.imshow(sitk.GetArrayViewFromImage(checker_board_affine.Execute(fixed_image, moving_resampled_affine)), cmap=plt.cm.Greys_r)\n",
    "plt.title('3. アフィン変換 (Affine)', fontsize=16)\n",
    "plt.axis('off')\n",
    "\n",
    "# 4. 非剛体変換後\n",
    "plt.subplot(2, 2, 4)\n",
    "checker_board_nonrigid = sitk.CheckerBoardImageFilter()\n",
    "checker_board_nonrigid.SetCheckerPattern([12,12])\n",
    "plt.imshow(sitk.GetArrayViewFromImage(checker_board_nonrigid.Execute(fixed_image, moving_resampled_nonrigid)), cmap=plt.cm.Greys_r)\n",
    "plt.title('4. 非剛体変換 (Non-rigid)', fontsize=16)\n",
    "plt.axis('off')\n",
    "\n",
    "plt.tight_layout()\n",
    "plt.show()"
   ]
  },
  {
   "cell_type": "markdown",
   "metadata": {},
   "source": [
    "### まとめ"
   ]
  }
 ],
 "metadata": {
  "colab": {
   "collapsed_sections": [],
   "provenance": []
  },
  "kernelspec": {
   "display_name": "Python 3",
   "name": "python3"
  },
  "language_info": {
   "name": "python"
  }
 },
 "nbformat": 4,
 "nbformat_minor": 4
}